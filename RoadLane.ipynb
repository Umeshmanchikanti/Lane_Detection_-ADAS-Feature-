{
  "nbformat": 4,
  "nbformat_minor": 0,
  "metadata": {
    "colab": {
      "provenance": [],
      "mount_file_id": "1Bgu7p-VBQblBPGjk4l6LVznie2hAZ5cL",
      "authorship_tag": "ABX9TyOZu2jeFcGuehClP3PCO4KK"
    },
    "kernelspec": {
      "name": "python3",
      "display_name": "Python 3"
    },
    "language_info": {
      "name": "python"
    }
  },
  "cells": [
    {
      "cell_type": "markdown",
      "source": [
        "# Install OpenCV library in Python."
      ],
      "metadata": {
        "id": "fZLDC8w608ZM"
      }
    },
    {
      "cell_type": "code",
      "execution_count": null,
      "metadata": {
        "id": "5XpBejM6jjis"
      },
      "outputs": [],
      "source": [
        "!pip install -q opencv-python\n"
      ]
    },
    {
      "cell_type": "markdown",
      "source": [
        "# Import the necessary libraries."
      ],
      "metadata": {
        "id": "ljVjMRB61JUh"
      }
    },
    {
      "cell_type": "code",
      "source": [
        "# Libraries for working with image processing\n",
        "import numpy as np\n",
        "import pandas as pd\n",
        "import cv2\n",
        "from google.colab.patches import cv2_imshow\n",
        "# Libraries needed to edit/save/watch video clips\n",
        "from moviepy import editor\n",
        "import moviepy\n"
      ],
      "metadata": {
        "id": "nCBSkZBCjvdd"
      },
      "execution_count": null,
      "outputs": []
    },
    {
      "cell_type": "code",
      "source": [
        "!pip install moviepy\n",
        "from moviepy.editor import VideoFileClip\n",
        "!pip install --upgrade moviepy"
      ],
      "metadata": {
        "colab": {
          "base_uri": "https://localhost:8080/"
        },
        "id": "cI71KZKpqqsB",
        "outputId": "53759328-d58e-411a-f31e-b118e49b3416"
      },
      "execution_count": null,
      "outputs": [
        {
          "output_type": "stream",
          "name": "stdout",
          "text": [
            "Requirement already satisfied: moviepy in /usr/local/lib/python3.10/dist-packages (1.0.3)\n",
            "Requirement already satisfied: decorator<5.0,>=4.0.2 in /usr/local/lib/python3.10/dist-packages (from moviepy) (4.4.2)\n",
            "Requirement already satisfied: tqdm<5.0,>=4.11.2 in /usr/local/lib/python3.10/dist-packages (from moviepy) (4.66.4)\n",
            "Requirement already satisfied: requests<3.0,>=2.8.1 in /usr/local/lib/python3.10/dist-packages (from moviepy) (2.31.0)\n",
            "Requirement already satisfied: proglog<=1.0.0 in /usr/local/lib/python3.10/dist-packages (from moviepy) (0.1.10)\n",
            "Requirement already satisfied: numpy>=1.17.3 in /usr/local/lib/python3.10/dist-packages (from moviepy) (1.25.2)\n",
            "Requirement already satisfied: imageio<3.0,>=2.5 in /usr/local/lib/python3.10/dist-packages (from moviepy) (2.31.6)\n",
            "Requirement already satisfied: imageio-ffmpeg>=0.2.0 in /usr/local/lib/python3.10/dist-packages (from moviepy) (0.4.9)\n",
            "Requirement already satisfied: pillow<10.1.0,>=8.3.2 in /usr/local/lib/python3.10/dist-packages (from imageio<3.0,>=2.5->moviepy) (9.4.0)\n",
            "Requirement already satisfied: setuptools in /usr/local/lib/python3.10/dist-packages (from imageio-ffmpeg>=0.2.0->moviepy) (67.7.2)\n",
            "Requirement already satisfied: charset-normalizer<4,>=2 in /usr/local/lib/python3.10/dist-packages (from requests<3.0,>=2.8.1->moviepy) (3.3.2)\n",
            "Requirement already satisfied: idna<4,>=2.5 in /usr/local/lib/python3.10/dist-packages (from requests<3.0,>=2.8.1->moviepy) (3.7)\n",
            "Requirement already satisfied: urllib3<3,>=1.21.1 in /usr/local/lib/python3.10/dist-packages (from requests<3.0,>=2.8.1->moviepy) (2.0.7)\n",
            "Requirement already satisfied: certifi>=2017.4.17 in /usr/local/lib/python3.10/dist-packages (from requests<3.0,>=2.8.1->moviepy) (2024.2.2)\n",
            "Requirement already satisfied: moviepy in /usr/local/lib/python3.10/dist-packages (1.0.3)\n",
            "Requirement already satisfied: decorator<5.0,>=4.0.2 in /usr/local/lib/python3.10/dist-packages (from moviepy) (4.4.2)\n",
            "Requirement already satisfied: tqdm<5.0,>=4.11.2 in /usr/local/lib/python3.10/dist-packages (from moviepy) (4.66.4)\n",
            "Requirement already satisfied: requests<3.0,>=2.8.1 in /usr/local/lib/python3.10/dist-packages (from moviepy) (2.31.0)\n",
            "Requirement already satisfied: proglog<=1.0.0 in /usr/local/lib/python3.10/dist-packages (from moviepy) (0.1.10)\n",
            "Requirement already satisfied: numpy>=1.17.3 in /usr/local/lib/python3.10/dist-packages (from moviepy) (1.25.2)\n",
            "Requirement already satisfied: imageio<3.0,>=2.5 in /usr/local/lib/python3.10/dist-packages (from moviepy) (2.31.6)\n",
            "Requirement already satisfied: imageio-ffmpeg>=0.2.0 in /usr/local/lib/python3.10/dist-packages (from moviepy) (0.4.9)\n",
            "Requirement already satisfied: pillow<10.1.0,>=8.3.2 in /usr/local/lib/python3.10/dist-packages (from imageio<3.0,>=2.5->moviepy) (9.4.0)\n",
            "Requirement already satisfied: setuptools in /usr/local/lib/python3.10/dist-packages (from imageio-ffmpeg>=0.2.0->moviepy) (67.7.2)\n",
            "Requirement already satisfied: charset-normalizer<4,>=2 in /usr/local/lib/python3.10/dist-packages (from requests<3.0,>=2.8.1->moviepy) (3.3.2)\n",
            "Requirement already satisfied: idna<4,>=2.5 in /usr/local/lib/python3.10/dist-packages (from requests<3.0,>=2.8.1->moviepy) (3.7)\n",
            "Requirement already satisfied: urllib3<3,>=1.21.1 in /usr/local/lib/python3.10/dist-packages (from requests<3.0,>=2.8.1->moviepy) (2.0.7)\n",
            "Requirement already satisfied: certifi>=2017.4.17 in /usr/local/lib/python3.10/dist-packages (from requests<3.0,>=2.8.1->moviepy) (2024.2.2)\n"
          ]
        }
      ]
    },
    {
      "cell_type": "code",
      "source": [
        "!pip install ffmpeg-python\n",
        "!pip install --upgrade ffmpeg-python"
      ],
      "metadata": {
        "colab": {
          "base_uri": "https://localhost:8080/"
        },
        "id": "IsXwS4U4uUon",
        "outputId": "8ae23319-e13a-41ec-ff9c-13e98562ceae"
      },
      "execution_count": null,
      "outputs": [
        {
          "output_type": "stream",
          "name": "stdout",
          "text": [
            "Requirement already satisfied: ffmpeg-python in /usr/local/lib/python3.10/dist-packages (0.2.0)\n",
            "Requirement already satisfied: future in /usr/local/lib/python3.10/dist-packages (from ffmpeg-python) (0.18.3)\n",
            "Requirement already satisfied: ffmpeg-python in /usr/local/lib/python3.10/dist-packages (0.2.0)\n",
            "Requirement already satisfied: future in /usr/local/lib/python3.10/dist-packages (from ffmpeg-python) (0.18.3)\n"
          ]
        }
      ]
    },
    {
      "cell_type": "code",
      "source": [
        "!pip install ffmpeg-python\n",
        "import ffmpeg\n"
      ],
      "metadata": {
        "colab": {
          "base_uri": "https://localhost:8080/"
        },
        "id": "GxIyl9UQufsD",
        "outputId": "487ce215-e52b-49a0-d8f7-e780754bebd1"
      },
      "execution_count": null,
      "outputs": [
        {
          "output_type": "stream",
          "name": "stdout",
          "text": [
            "Collecting ffmpeg-python\n",
            "  Downloading ffmpeg_python-0.2.0-py3-none-any.whl (25 kB)\n",
            "Requirement already satisfied: future in /usr/local/lib/python3.10/dist-packages (from ffmpeg-python) (0.18.3)\n",
            "Installing collected packages: ffmpeg-python\n",
            "Successfully installed ffmpeg-python-0.2.0\n"
          ]
        }
      ]
    },
    {
      "cell_type": "code",
      "source": [
        "!pip install moviepy --upgrade\n",
        "!pip install ffmpeg-python --upgrade"
      ],
      "metadata": {
        "colab": {
          "base_uri": "https://localhost:8080/"
        },
        "id": "d_fKX4or8gNH",
        "outputId": "0841e075-2cc8-4b05-b368-137b66b79470"
      },
      "execution_count": 19,
      "outputs": [
        {
          "output_type": "stream",
          "name": "stdout",
          "text": [
            "Requirement already satisfied: moviepy in /usr/local/lib/python3.10/dist-packages (1.0.3)\n",
            "Requirement already satisfied: decorator<5.0,>=4.0.2 in /usr/local/lib/python3.10/dist-packages (from moviepy) (4.4.2)\n",
            "Requirement already satisfied: tqdm<5.0,>=4.11.2 in /usr/local/lib/python3.10/dist-packages (from moviepy) (4.66.4)\n",
            "Requirement already satisfied: requests<3.0,>=2.8.1 in /usr/local/lib/python3.10/dist-packages (from moviepy) (2.31.0)\n",
            "Requirement already satisfied: proglog<=1.0.0 in /usr/local/lib/python3.10/dist-packages (from moviepy) (0.1.10)\n",
            "Requirement already satisfied: numpy>=1.17.3 in /usr/local/lib/python3.10/dist-packages (from moviepy) (1.25.2)\n",
            "Requirement already satisfied: imageio<3.0,>=2.5 in /usr/local/lib/python3.10/dist-packages (from moviepy) (2.31.6)\n",
            "Requirement already satisfied: imageio-ffmpeg>=0.2.0 in /usr/local/lib/python3.10/dist-packages (from moviepy) (0.4.9)\n",
            "Requirement already satisfied: pillow<10.1.0,>=8.3.2 in /usr/local/lib/python3.10/dist-packages (from imageio<3.0,>=2.5->moviepy) (9.4.0)\n",
            "Requirement already satisfied: setuptools in /usr/local/lib/python3.10/dist-packages (from imageio-ffmpeg>=0.2.0->moviepy) (67.7.2)\n",
            "Requirement already satisfied: charset-normalizer<4,>=2 in /usr/local/lib/python3.10/dist-packages (from requests<3.0,>=2.8.1->moviepy) (3.3.2)\n",
            "Requirement already satisfied: idna<4,>=2.5 in /usr/local/lib/python3.10/dist-packages (from requests<3.0,>=2.8.1->moviepy) (3.7)\n",
            "Requirement already satisfied: urllib3<3,>=1.21.1 in /usr/local/lib/python3.10/dist-packages (from requests<3.0,>=2.8.1->moviepy) (2.0.7)\n",
            "Requirement already satisfied: certifi>=2017.4.17 in /usr/local/lib/python3.10/dist-packages (from requests<3.0,>=2.8.1->moviepy) (2024.2.2)\n",
            "Requirement already satisfied: ffmpeg-python in /usr/local/lib/python3.10/dist-packages (0.2.0)\n",
            "Requirement already satisfied: future in /usr/local/lib/python3.10/dist-packages (from ffmpeg-python) (0.18.3)\n"
          ]
        }
      ]
    },
    {
      "cell_type": "code",
      "source": [
        "!ffmpeg -version"
      ],
      "metadata": {
        "colab": {
          "base_uri": "https://localhost:8080/"
        },
        "id": "ag-abE_s8pVP",
        "outputId": "3a8eef62-0827-411f-b5c8-3efec35f040c"
      },
      "execution_count": 20,
      "outputs": [
        {
          "output_type": "stream",
          "name": "stdout",
          "text": [
            "ffmpeg version 4.4.2-0ubuntu0.22.04.1 Copyright (c) 2000-2021 the FFmpeg developers\n",
            "built with gcc 11 (Ubuntu 11.2.0-19ubuntu1)\n",
            "configuration: --prefix=/usr --extra-version=0ubuntu0.22.04.1 --toolchain=hardened --libdir=/usr/lib/x86_64-linux-gnu --incdir=/usr/include/x86_64-linux-gnu --arch=amd64 --enable-gpl --disable-stripping --enable-gnutls --enable-ladspa --enable-libaom --enable-libass --enable-libbluray --enable-libbs2b --enable-libcaca --enable-libcdio --enable-libcodec2 --enable-libdav1d --enable-libflite --enable-libfontconfig --enable-libfreetype --enable-libfribidi --enable-libgme --enable-libgsm --enable-libjack --enable-libmp3lame --enable-libmysofa --enable-libopenjpeg --enable-libopenmpt --enable-libopus --enable-libpulse --enable-librabbitmq --enable-librubberband --enable-libshine --enable-libsnappy --enable-libsoxr --enable-libspeex --enable-libsrt --enable-libssh --enable-libtheora --enable-libtwolame --enable-libvidstab --enable-libvorbis --enable-libvpx --enable-libwebp --enable-libx265 --enable-libxml2 --enable-libxvid --enable-libzimg --enable-libzmq --enable-libzvbi --enable-lv2 --enable-omx --enable-openal --enable-opencl --enable-opengl --enable-sdl2 --enable-pocketsphinx --enable-librsvg --enable-libmfx --enable-libdc1394 --enable-libdrm --enable-libiec61883 --enable-chromaprint --enable-frei0r --enable-libx264 --enable-shared\n",
            "libavutil      56. 70.100 / 56. 70.100\n",
            "libavcodec     58.134.100 / 58.134.100\n",
            "libavformat    58. 76.100 / 58. 76.100\n",
            "libavdevice    58. 13.100 / 58. 13.100\n",
            "libavfilter     7.110.100 /  7.110.100\n",
            "libswscale      5.  9.100 /  5.  9.100\n",
            "libswresample   3.  9.100 /  3.  9.100\n",
            "libpostproc    55.  9.100 / 55.  9.100\n"
          ]
        }
      ]
    },
    {
      "cell_type": "code",
      "source": [
        "!sudo apt-get install ffmpeg"
      ],
      "metadata": {
        "colab": {
          "base_uri": "https://localhost:8080/"
        },
        "id": "Rdfc8MLG8uV6",
        "outputId": "eb4b5915-4a46-40d3-94aa-772f4da0933f"
      },
      "execution_count": 21,
      "outputs": [
        {
          "output_type": "stream",
          "name": "stdout",
          "text": [
            "Reading package lists... Done\n",
            "Building dependency tree... Done\n",
            "Reading state information... Done\n",
            "ffmpeg is already the newest version (7:4.4.2-0ubuntu0.22.04.1).\n",
            "0 upgraded, 0 newly installed, 0 to remove and 45 not upgraded.\n"
          ]
        }
      ]
    },
    {
      "cell_type": "markdown",
      "source": [
        "# Define the driver function for our algorithm."
      ],
      "metadata": {
        "id": "ByJnJcbn1TNq"
      }
    },
    {
      "cell_type": "code",
      "source": [
        "# Import necessary libraries\n",
        "!sudo apt-get install libavcodec-extra\n",
        "import numpy as np\n",
        "import pandas as pd\n",
        "import cv2\n",
        "from moviepy import editor\n",
        "import moviepy\n",
        "import glob\n",
        "!pip install gdown\n",
        "import gdown\n",
        "\n",
        "# Uninstall existing FFmpeg installations\n",
        "#!pip uninstall ffmpeg-python\n",
        "#!sudo apt-get remove ffmpeg\n",
        "\n",
        "#Reinstall FFmpeg using pip\n",
        "!sudo apt-get install ffmpeg\n",
        "!pip install ffmpeg-python\n",
        "!pip install --upgrade ffmpeg-python\n",
        "!pip install moviepy\n",
        "!pip install --upgrade moviepy\n",
        "\n",
        "# Set the video file path\n",
        "url = 'https://drive.google.com/file/d/1zJosoDZKPzEsGI-W45ep743kfMyPM2Cw/view?usp=sharing'\n",
        "output = 'test_video.mp4'\n",
        "test_video = 'output'\n",
        "#video_files = glob.glob(\"https://drive.google.com/drive/folders/1w_ZsXi3jR2lmdHjBrcTy0xRErED5mDxY\")\n",
        "#test_video = \"content/https://drive.google.com/drive/folders/1w_ZsXi3jR2lmdHjBrcTy0xRErED5mDxY\"\n",
        "gdown.download(url, output, quiet=False)\n",
        "\n",
        "# Read the video file without audio\n",
        "input_video = editor.VideoFileClip(\"/content/drive/MyDrive/C.mp4\", audio=False)\n",
        "#editor.VideoFileClip(\"/content/drive/MyDrive/test_video.mp4/test_video.mp4\", audio=False)\n",
        "\n",
        "# Define the frame processing function\n",
        "def frame_processor(frame):\n",
        "    # Convert the frame to grayscale\n",
        "    processed_frame = cv2.cvtColor(frame, cv2.COLOR_BGR2GRAY)\n",
        "    return processed_frame\n",
        "\n",
        "# Apply the frame processing function to each frame\n",
        "processed = input_video.fl_image(frame_processor)\n",
        "\n",
        "# Set the output video path and filename\n",
        "output_video = \"/content/drive/MyDrive/test_video.mp4/test_video.mp4\"\n",
        "#\"C:\\\\Users\\\\Umesh Manchikanti\\\\Documents\\\\test_video\\\\test_video.mp4\"\n",
        "\n",
        "# Define the frame rate\n",
        "fps = 30\n",
        "\n",
        "# Write the processed video to file\n",
        "processed.write_videofile(output_video, codec='libx264', fps=fps, audio=True, audio_bufsize=1000000)\n",
        "#processed.write_videofile(output_video, codec='mp4v', format= 'mp4', fps=fps, audio=True)\n",
        "#clip.write_videofile('myvid.webm', codec='libvpx') #'mpeg4'"
      ],
      "metadata": {
        "colab": {
          "base_uri": "https://localhost:8080/"
        },
        "id": "kM4Z6T68n-Rs",
        "outputId": "adaa3860-87d0-4099-ced3-b853371ea493"
      },
      "execution_count": 62,
      "outputs": [
        {
          "output_type": "stream",
          "name": "stdout",
          "text": [
            "Reading package lists... Done\n",
            "Building dependency tree... Done\n",
            "Reading state information... Done\n",
            "libavcodec-extra is already the newest version (7:4.4.2-0ubuntu0.22.04.1).\n",
            "0 upgraded, 0 newly installed, 0 to remove and 45 not upgraded.\n",
            "Requirement already satisfied: gdown in /usr/local/lib/python3.10/dist-packages (5.1.0)\n",
            "Requirement already satisfied: beautifulsoup4 in /usr/local/lib/python3.10/dist-packages (from gdown) (4.12.3)\n",
            "Requirement already satisfied: filelock in /usr/local/lib/python3.10/dist-packages (from gdown) (3.14.0)\n",
            "Requirement already satisfied: requests[socks] in /usr/local/lib/python3.10/dist-packages (from gdown) (2.31.0)\n",
            "Requirement already satisfied: tqdm in /usr/local/lib/python3.10/dist-packages (from gdown) (4.66.4)\n",
            "Requirement already satisfied: soupsieve>1.2 in /usr/local/lib/python3.10/dist-packages (from beautifulsoup4->gdown) (2.5)\n",
            "Requirement already satisfied: charset-normalizer<4,>=2 in /usr/local/lib/python3.10/dist-packages (from requests[socks]->gdown) (3.3.2)\n",
            "Requirement already satisfied: idna<4,>=2.5 in /usr/local/lib/python3.10/dist-packages (from requests[socks]->gdown) (3.7)\n",
            "Requirement already satisfied: urllib3<3,>=1.21.1 in /usr/local/lib/python3.10/dist-packages (from requests[socks]->gdown) (2.0.7)\n",
            "Requirement already satisfied: certifi>=2017.4.17 in /usr/local/lib/python3.10/dist-packages (from requests[socks]->gdown) (2024.2.2)\n",
            "Requirement already satisfied: PySocks!=1.5.7,>=1.5.6 in /usr/local/lib/python3.10/dist-packages (from requests[socks]->gdown) (1.7.1)\n",
            "Reading package lists... Done\n",
            "Building dependency tree... Done\n",
            "Reading state information... Done\n",
            "ffmpeg is already the newest version (7:4.4.2-0ubuntu0.22.04.1).\n",
            "0 upgraded, 0 newly installed, 0 to remove and 45 not upgraded.\n",
            "Requirement already satisfied: ffmpeg-python in /usr/local/lib/python3.10/dist-packages (0.2.0)\n",
            "Requirement already satisfied: future in /usr/local/lib/python3.10/dist-packages (from ffmpeg-python) (0.18.3)\n",
            "Requirement already satisfied: ffmpeg-python in /usr/local/lib/python3.10/dist-packages (0.2.0)\n",
            "Requirement already satisfied: future in /usr/local/lib/python3.10/dist-packages (from ffmpeg-python) (0.18.3)\n",
            "Requirement already satisfied: moviepy in /usr/local/lib/python3.10/dist-packages (1.0.3)\n",
            "Requirement already satisfied: decorator<5.0,>=4.0.2 in /usr/local/lib/python3.10/dist-packages (from moviepy) (4.4.2)\n",
            "Requirement already satisfied: tqdm<5.0,>=4.11.2 in /usr/local/lib/python3.10/dist-packages (from moviepy) (4.66.4)\n",
            "Requirement already satisfied: requests<3.0,>=2.8.1 in /usr/local/lib/python3.10/dist-packages (from moviepy) (2.31.0)\n",
            "Requirement already satisfied: proglog<=1.0.0 in /usr/local/lib/python3.10/dist-packages (from moviepy) (0.1.10)\n",
            "Requirement already satisfied: numpy>=1.17.3 in /usr/local/lib/python3.10/dist-packages (from moviepy) (1.25.2)\n",
            "Requirement already satisfied: imageio<3.0,>=2.5 in /usr/local/lib/python3.10/dist-packages (from moviepy) (2.31.6)\n",
            "Requirement already satisfied: imageio-ffmpeg>=0.2.0 in /usr/local/lib/python3.10/dist-packages (from moviepy) (0.4.9)\n",
            "Requirement already satisfied: pillow<10.1.0,>=8.3.2 in /usr/local/lib/python3.10/dist-packages (from imageio<3.0,>=2.5->moviepy) (9.4.0)\n",
            "Requirement already satisfied: setuptools in /usr/local/lib/python3.10/dist-packages (from imageio-ffmpeg>=0.2.0->moviepy) (67.7.2)\n",
            "Requirement already satisfied: charset-normalizer<4,>=2 in /usr/local/lib/python3.10/dist-packages (from requests<3.0,>=2.8.1->moviepy) (3.3.2)\n",
            "Requirement already satisfied: idna<4,>=2.5 in /usr/local/lib/python3.10/dist-packages (from requests<3.0,>=2.8.1->moviepy) (3.7)\n",
            "Requirement already satisfied: urllib3<3,>=1.21.1 in /usr/local/lib/python3.10/dist-packages (from requests<3.0,>=2.8.1->moviepy) (2.0.7)\n",
            "Requirement already satisfied: certifi>=2017.4.17 in /usr/local/lib/python3.10/dist-packages (from requests<3.0,>=2.8.1->moviepy) (2024.2.2)\n",
            "Requirement already satisfied: moviepy in /usr/local/lib/python3.10/dist-packages (1.0.3)\n",
            "Requirement already satisfied: decorator<5.0,>=4.0.2 in /usr/local/lib/python3.10/dist-packages (from moviepy) (4.4.2)\n",
            "Requirement already satisfied: tqdm<5.0,>=4.11.2 in /usr/local/lib/python3.10/dist-packages (from moviepy) (4.66.4)\n",
            "Requirement already satisfied: requests<3.0,>=2.8.1 in /usr/local/lib/python3.10/dist-packages (from moviepy) (2.31.0)\n",
            "Requirement already satisfied: proglog<=1.0.0 in /usr/local/lib/python3.10/dist-packages (from moviepy) (0.1.10)\n",
            "Requirement already satisfied: numpy>=1.17.3 in /usr/local/lib/python3.10/dist-packages (from moviepy) (1.25.2)\n",
            "Requirement already satisfied: imageio<3.0,>=2.5 in /usr/local/lib/python3.10/dist-packages (from moviepy) (2.31.6)\n",
            "Requirement already satisfied: imageio-ffmpeg>=0.2.0 in /usr/local/lib/python3.10/dist-packages (from moviepy) (0.4.9)\n",
            "Requirement already satisfied: pillow<10.1.0,>=8.3.2 in /usr/local/lib/python3.10/dist-packages (from imageio<3.0,>=2.5->moviepy) (9.4.0)\n",
            "Requirement already satisfied: setuptools in /usr/local/lib/python3.10/dist-packages (from imageio-ffmpeg>=0.2.0->moviepy) (67.7.2)\n",
            "Requirement already satisfied: charset-normalizer<4,>=2 in /usr/local/lib/python3.10/dist-packages (from requests<3.0,>=2.8.1->moviepy) (3.3.2)\n",
            "Requirement already satisfied: idna<4,>=2.5 in /usr/local/lib/python3.10/dist-packages (from requests<3.0,>=2.8.1->moviepy) (3.7)\n",
            "Requirement already satisfied: urllib3<3,>=1.21.1 in /usr/local/lib/python3.10/dist-packages (from requests<3.0,>=2.8.1->moviepy) (2.0.7)\n",
            "Requirement already satisfied: certifi>=2017.4.17 in /usr/local/lib/python3.10/dist-packages (from requests<3.0,>=2.8.1->moviepy) (2024.2.2)\n"
          ]
        },
        {
          "output_type": "stream",
          "name": "stderr",
          "text": [
            "Downloading...\n",
            "From: https://drive.google.com/file/d/1zJosoDZKPzEsGI-W45ep743kfMyPM2Cw/view?usp=sharing\n",
            "To: /content/test_video.mp4\n",
            "\n",
            "82.1kB [00:00, 2.28MB/s]\n",
            "\n",
            "\n",
            "\n",
            "\n",
            "\n",
            "\n",
            "\n",
            "\n",
            "\n",
            "\n",
            "\n",
            "\n",
            "t:   1%|          | 4/779 [1:18:24<253:10:00, 1176.00s/it, now=None]\n",
            "\n",
            "\n",
            "\n",
            "\n",
            "\n",
            "\n",
            "\n",
            "\n",
            "\n",
            "\n",
            "\n",
            "t:   1%|          | 4/779 [1:18:24<253:10:04, 1176.01s/it, now=None]"
          ]
        },
        {
          "output_type": "stream",
          "name": "stdout",
          "text": [
            "Moviepy - Building video /content/drive/MyDrive/test_video.mp4/test_video.mp4.\n",
            "Moviepy - Writing video /content/drive/MyDrive/test_video.mp4/test_video.mp4\n",
            "\n"
          ]
        },
        {
          "output_type": "stream",
          "name": "stderr",
          "text": [
            "\n",
            "t:   0%|          | 0/430 [00:00<?, ?it/s, now=None]\u001b[A\n",
            "t:   0%|          | 2/430 [00:00<00:29, 14.44it/s, now=None]\u001b[A\n",
            "t:   1%|          | 4/430 [00:00<00:43,  9.73it/s, now=None]\u001b[A\n",
            "t:   1%|▏         | 6/430 [00:00<00:55,  7.65it/s, now=None]\u001b[A\n",
            "t:   2%|▏         | 8/430 [00:01<01:06,  6.37it/s, now=None]\u001b[A\n",
            "t:   2%|▏         | 9/430 [00:01<01:01,  6.87it/s, now=None]\u001b[A\n",
            "t:   2%|▏         | 10/430 [00:01<00:57,  7.25it/s, now=None]\u001b[A\n",
            "t:   3%|▎         | 11/430 [00:01<01:12,  5.81it/s, now=None]\u001b[A\n",
            "t:   3%|▎         | 13/430 [00:01<00:57,  7.28it/s, now=None]\u001b[A\n",
            "t:   3%|▎         | 14/430 [00:02<01:10,  5.92it/s, now=None]\u001b[A\n",
            "t:   4%|▎         | 16/430 [00:02<00:54,  7.53it/s, now=None]\u001b[A\n",
            "t:   4%|▍         | 17/430 [00:02<01:08,  6.02it/s, now=None]\u001b[A\n",
            "t:   4%|▍         | 19/430 [00:02<00:52,  7.81it/s, now=None]\u001b[A\n",
            "t:   5%|▍         | 20/430 [00:02<01:05,  6.23it/s, now=None]\u001b[A\n",
            "t:   5%|▌         | 22/430 [00:03<00:54,  7.51it/s, now=None]\u001b[A\n",
            "t:   5%|▌         | 23/430 [00:03<01:08,  5.92it/s, now=None]\u001b[A\n",
            "t:   6%|▌         | 25/430 [00:03<00:54,  7.39it/s, now=None]\u001b[A\n",
            "t:   6%|▌         | 26/430 [00:03<01:04,  6.22it/s, now=None]\u001b[A\n",
            "t:   7%|▋         | 28/430 [00:03<00:51,  7.74it/s, now=None]\u001b[A\n",
            "t:   7%|▋         | 29/430 [00:04<01:04,  6.25it/s, now=None]\u001b[A\n",
            "t:   7%|▋         | 31/430 [00:04<00:51,  7.72it/s, now=None]\u001b[A\n",
            "t:   7%|▋         | 32/430 [00:04<01:06,  6.03it/s, now=None]\u001b[A\n",
            "t:   8%|▊         | 34/430 [00:04<00:51,  7.74it/s, now=None]\u001b[A\n",
            "t:   8%|▊         | 35/430 [00:05<01:08,  5.74it/s, now=None]\u001b[A\n",
            "t:   9%|▊         | 37/430 [00:05<00:55,  7.12it/s, now=None]\u001b[A\n",
            "t:   9%|▉         | 38/430 [00:05<01:04,  6.10it/s, now=None]\u001b[A\n",
            "t:   9%|▉         | 40/430 [00:05<00:51,  7.51it/s, now=None]\u001b[A\n",
            "t:  10%|▉         | 41/430 [00:06<01:01,  6.37it/s, now=None]\u001b[A\n",
            "t:  10%|█         | 43/430 [00:06<00:46,  8.25it/s, now=None]\u001b[A\n",
            "t:  10%|█         | 44/430 [00:06<00:49,  7.80it/s, now=None]\u001b[A\n",
            "t:  11%|█         | 46/430 [00:06<00:38,  9.88it/s, now=None]\u001b[A\n",
            "t:  11%|█         | 48/430 [00:06<00:38,  9.81it/s, now=None]\u001b[A\n",
            "t:  12%|█▏        | 50/430 [00:06<00:39,  9.67it/s, now=None]\u001b[A\n",
            "t:  12%|█▏        | 52/430 [00:06<00:33, 11.22it/s, now=None]\u001b[A\n",
            "t:  13%|█▎        | 54/430 [00:07<00:35, 10.55it/s, now=None]\u001b[A\n",
            "t:  13%|█▎        | 56/430 [00:07<00:35, 10.51it/s, now=None]\u001b[A\n",
            "t:  13%|█▎        | 58/430 [00:07<00:31, 11.69it/s, now=None]\u001b[A\n",
            "t:  14%|█▍        | 60/430 [00:07<00:33, 10.89it/s, now=None]\u001b[A\n",
            "t:  14%|█▍        | 62/430 [00:07<00:35, 10.27it/s, now=None]\u001b[A\n",
            "t:  15%|█▍        | 64/430 [00:08<00:31, 11.52it/s, now=None]\u001b[A\n",
            "t:  15%|█▌        | 66/430 [00:08<00:32, 11.24it/s, now=None]\u001b[A\n",
            "t:  16%|█▌        | 68/430 [00:08<00:35, 10.30it/s, now=None]\u001b[A\n",
            "t:  16%|█▋        | 70/430 [00:08<00:31, 11.34it/s, now=None]\u001b[A\n",
            "t:  17%|█▋        | 72/430 [00:08<00:32, 11.05it/s, now=None]\u001b[A\n",
            "t:  17%|█▋        | 74/430 [00:09<00:35, 10.11it/s, now=None]\u001b[A\n",
            "t:  18%|█▊        | 76/430 [00:09<00:31, 11.19it/s, now=None]\u001b[A\n",
            "t:  18%|█▊        | 78/430 [00:09<00:31, 11.31it/s, now=None]\u001b[A\n",
            "t:  19%|█▊        | 80/430 [00:09<00:32, 10.61it/s, now=None]\u001b[A\n",
            "t:  19%|█▉        | 82/430 [00:09<00:29, 11.81it/s, now=None]\u001b[A\n",
            "t:  20%|█▉        | 84/430 [00:09<00:31, 11.14it/s, now=None]\u001b[A\n",
            "t:  20%|██        | 86/430 [00:10<00:33, 10.24it/s, now=None]\u001b[A\n",
            "t:  20%|██        | 88/430 [00:10<00:29, 11.73it/s, now=None]\u001b[A\n",
            "t:  21%|██        | 90/430 [00:10<00:30, 11.06it/s, now=None]\u001b[A\n",
            "t:  21%|██▏       | 92/430 [00:10<00:31, 10.70it/s, now=None]\u001b[A\n",
            "t:  22%|██▏       | 94/430 [00:10<00:29, 11.34it/s, now=None]\u001b[A\n",
            "t:  22%|██▏       | 96/430 [00:10<00:30, 11.02it/s, now=None]\u001b[A\n",
            "t:  23%|██▎       | 98/430 [00:11<00:30, 10.84it/s, now=None]\u001b[A\n",
            "t:  23%|██▎       | 100/430 [00:11<00:28, 11.55it/s, now=None]\u001b[A\n",
            "t:  24%|██▎       | 102/430 [00:11<00:28, 11.41it/s, now=None]\u001b[A\n",
            "t:  24%|██▍       | 104/430 [00:11<00:30, 10.63it/s, now=None]\u001b[A\n",
            "t:  25%|██▍       | 106/430 [00:11<00:27, 11.74it/s, now=None]\u001b[A\n",
            "t:  25%|██▌       | 108/430 [00:12<00:29, 11.03it/s, now=None]\u001b[A\n",
            "t:  26%|██▌       | 110/430 [00:12<00:30, 10.39it/s, now=None]\u001b[A\n",
            "t:  26%|██▌       | 112/430 [00:12<00:27, 11.56it/s, now=None]\u001b[A\n",
            "t:  27%|██▋       | 114/430 [00:12<00:27, 11.35it/s, now=None]\u001b[A\n",
            "t:  27%|██▋       | 116/430 [00:12<00:30, 10.20it/s, now=None]\u001b[A\n",
            "t:  27%|██▋       | 118/430 [00:12<00:27, 11.26it/s, now=None]\u001b[A\n",
            "t:  28%|██▊       | 120/430 [00:13<00:27, 11.19it/s, now=None]\u001b[A\n",
            "t:  28%|██▊       | 122/430 [00:13<00:29, 10.61it/s, now=None]\u001b[A\n",
            "t:  29%|██▉       | 124/430 [00:13<00:26, 11.65it/s, now=None]\u001b[A\n",
            "t:  29%|██▉       | 126/430 [00:13<00:27, 10.93it/s, now=None]\u001b[A\n",
            "t:  30%|██▉       | 128/430 [00:13<00:31,  9.56it/s, now=None]\u001b[A\n",
            "t:  30%|███       | 130/430 [00:14<00:30,  9.99it/s, now=None]\u001b[A\n",
            "t:  31%|███       | 132/430 [00:14<00:36,  8.17it/s, now=None]\u001b[A\n",
            "t:  31%|███       | 133/430 [00:14<00:37,  7.93it/s, now=None]\u001b[A\n",
            "t:  31%|███       | 134/430 [00:14<00:48,  6.04it/s, now=None]\u001b[A\n",
            "t:  31%|███▏      | 135/430 [00:15<00:45,  6.53it/s, now=None]\u001b[A\n",
            "t:  32%|███▏      | 136/430 [00:15<00:43,  6.69it/s, now=None]\u001b[A\n",
            "t:  32%|███▏      | 137/430 [00:15<00:58,  4.99it/s, now=None]\u001b[A\n",
            "t:  32%|███▏      | 139/430 [00:15<00:45,  6.45it/s, now=None]\u001b[A\n",
            "t:  33%|███▎      | 140/430 [00:19<05:10,  1.07s/it, now=None]\u001b[A\n",
            "t:  33%|███▎      | 142/430 [00:19<03:15,  1.47it/s, now=None]\u001b[A\n",
            "t:  33%|███▎      | 143/430 [00:20<02:51,  1.67it/s, now=None]\u001b[A\n",
            "t:  33%|███▎      | 144/430 [00:20<02:17,  2.08it/s, now=None]\u001b[A\n",
            "t:  34%|███▎      | 145/430 [00:20<01:51,  2.56it/s, now=None]\u001b[A\n",
            "t:  34%|███▍      | 146/430 [00:22<03:25,  1.38it/s, now=None]\u001b[A\n",
            "t:  34%|███▍      | 148/430 [00:22<02:06,  2.22it/s, now=None]\u001b[A\n",
            "t:  35%|███▍      | 149/430 [00:23<02:35,  1.80it/s, now=None]\u001b[A\n",
            "t:  35%|███▌      | 151/430 [00:23<01:40,  2.79it/s, now=None]\u001b[A\n",
            "t:  35%|███▌      | 152/430 [00:23<01:50,  2.52it/s, now=None]\u001b[A\n",
            "t:  36%|███▌      | 154/430 [00:24<01:14,  3.72it/s, now=None]\u001b[A\n",
            "t:  36%|███▌      | 155/430 [00:24<01:42,  2.69it/s, now=None]\u001b[A\n",
            "t:  37%|███▋      | 157/430 [00:24<01:08,  3.96it/s, now=None]\u001b[A\n",
            "t:  37%|███▋      | 158/430 [00:25<01:45,  2.58it/s, now=None]\u001b[A\n",
            "t:  37%|███▋      | 160/430 [00:25<01:11,  3.79it/s, now=None]\u001b[A\n",
            "t:  37%|███▋      | 161/430 [00:26<01:50,  2.44it/s, now=None]\u001b[A\n",
            "t:  38%|███▊      | 163/430 [00:26<01:14,  3.60it/s, now=None]\u001b[A\n",
            "t:  38%|███▊      | 164/430 [00:27<01:43,  2.58it/s, now=None]\u001b[A\n",
            "t:  39%|███▊      | 166/430 [00:27<01:09,  3.77it/s, now=None]\u001b[A\n",
            "t:  39%|███▉      | 167/430 [00:28<01:42,  2.57it/s, now=None]\u001b[A\n",
            "t:  39%|███▉      | 169/430 [00:28<01:09,  3.73it/s, now=None]\u001b[A\n",
            "t:  40%|███▉      | 170/430 [00:29<01:29,  2.91it/s, now=None]\u001b[A\n",
            "t:  40%|████      | 172/430 [00:29<01:02,  4.16it/s, now=None]\u001b[A\n",
            "t:  40%|████      | 173/430 [00:30<01:50,  2.32it/s, now=None]\u001b[A\n",
            "t:  41%|████      | 175/430 [00:30<01:15,  3.39it/s, now=None]\u001b[A\n",
            "t:  41%|████      | 176/430 [00:31<01:32,  2.74it/s, now=None]\u001b[A\n",
            "t:  41%|████▏     | 178/430 [00:31<01:02,  4.02it/s, now=None]\u001b[A\n",
            "t:  42%|████▏     | 179/430 [00:32<01:33,  2.68it/s, now=None]\u001b[A\n",
            "t:  42%|████▏     | 181/430 [00:32<01:06,  3.76it/s, now=None]\u001b[A\n",
            "t:  42%|████▏     | 182/430 [00:33<01:55,  2.14it/s, now=None]\u001b[A\n",
            "t:  43%|████▎     | 183/430 [00:34<01:35,  2.59it/s, now=None]\u001b[A\n",
            "t:  43%|████▎     | 185/430 [00:35<02:31,  1.62it/s, now=None]\u001b[A\n",
            "t:  43%|████▎     | 187/430 [00:36<01:43,  2.35it/s, now=None]\u001b[A\n",
            "t:  44%|████▎     | 188/430 [00:37<02:16,  1.77it/s, now=None]\u001b[A\n",
            "t:  44%|████▍     | 189/430 [00:37<01:51,  2.17it/s, now=None]\u001b[A\n",
            "t:  44%|████▍     | 191/430 [00:38<02:16,  1.75it/s, now=None]\u001b[A\n",
            "t:  45%|████▍     | 193/430 [00:38<01:33,  2.53it/s, now=None]\u001b[A\n",
            "t:  45%|████▌     | 194/430 [00:39<01:58,  1.99it/s, now=None]\u001b[A\n",
            "t:  46%|████▌     | 196/430 [00:40<01:21,  2.87it/s, now=None]\u001b[A\n",
            "t:  46%|████▌     | 197/430 [00:41<02:00,  1.94it/s, now=None]\u001b[A\n",
            "t:  46%|████▋     | 199/430 [00:41<01:23,  2.77it/s, now=None]\u001b[A\n",
            "t:  47%|████▋     | 200/430 [00:41<01:27,  2.62it/s, now=None]\u001b[A\n",
            "t:  47%|████▋     | 202/430 [00:42<01:00,  3.77it/s, now=None]\u001b[A\n",
            "t:  47%|████▋     | 203/430 [00:42<01:28,  2.57it/s, now=None]\u001b[A\n",
            "t:  48%|████▊     | 205/430 [00:43<00:59,  3.76it/s, now=None]\u001b[A\n",
            "t:  48%|████▊     | 206/430 [00:43<01:21,  2.76it/s, now=None]\u001b[A\n",
            "t:  48%|████▊     | 208/430 [00:43<00:56,  3.96it/s, now=None]\u001b[A\n",
            "t:  49%|████▊     | 209/430 [00:44<01:26,  2.55it/s, now=None]\u001b[A\n",
            "t:  49%|████▉     | 211/430 [00:44<00:59,  3.67it/s, now=None]\u001b[A\n",
            "t:  49%|████▉     | 212/430 [00:45<01:17,  2.82it/s, now=None]\u001b[A\n",
            "t:  50%|████▉     | 214/430 [00:45<00:54,  3.97it/s, now=None]\u001b[A\n",
            "t:  50%|█████     | 215/430 [00:46<01:22,  2.59it/s, now=None]\u001b[A\n",
            "t:  50%|█████     | 217/430 [00:46<00:57,  3.69it/s, now=None]\u001b[A\n",
            "t:  51%|█████     | 218/430 [00:47<01:21,  2.60it/s, now=None]\u001b[A\n",
            "t:  51%|█████     | 220/430 [00:47<00:55,  3.79it/s, now=None]\u001b[A\n",
            "t:  51%|█████▏    | 221/430 [00:48<01:18,  2.67it/s, now=None]\u001b[A\n",
            "t:  52%|█████▏    | 223/430 [00:48<00:53,  3.88it/s, now=None]\u001b[A\n",
            "t:  52%|█████▏    | 224/430 [00:49<01:21,  2.52it/s, now=None]\u001b[A\n",
            "t:  53%|█████▎    | 226/430 [00:49<00:55,  3.65it/s, now=None]\u001b[A\n",
            "t:  53%|█████▎    | 227/430 [00:50<01:37,  2.08it/s, now=None]\u001b[A\n",
            "t:  53%|█████▎    | 229/430 [00:51<01:06,  3.04it/s, now=None]\u001b[A\n",
            "t:  53%|█████▎    | 230/430 [00:51<01:04,  3.11it/s, now=None]\u001b[A\n",
            "t:  54%|█████▎    | 231/430 [00:51<00:53,  3.70it/s, now=None]\u001b[A\n",
            "t:  54%|█████▍    | 232/430 [00:51<00:46,  4.24it/s, now=None]\u001b[A\n",
            "t:  54%|█████▍    | 233/430 [00:54<02:56,  1.12it/s, now=None]\u001b[A\n",
            "t:  55%|█████▍    | 235/430 [00:54<01:45,  1.85it/s, now=None]\u001b[A\n",
            "t:  55%|█████▍    | 236/430 [00:55<02:01,  1.59it/s, now=None]\u001b[A\n",
            "t:  55%|█████▌    | 237/430 [00:55<01:36,  2.00it/s, now=None]\u001b[A\n",
            "t:  55%|█████▌    | 238/430 [00:55<01:16,  2.51it/s, now=None]\u001b[A\n",
            "t:  56%|█████▌    | 239/430 [00:56<02:01,  1.57it/s, now=None]\u001b[A\n",
            "t:  56%|█████▌    | 241/430 [00:57<01:13,  2.56it/s, now=None]\u001b[A\n",
            "t:  56%|█████▋    | 242/430 [00:57<01:20,  2.34it/s, now=None]\u001b[A\n",
            "t:  57%|█████▋    | 244/430 [00:57<00:52,  3.57it/s, now=None]\u001b[A\n",
            "t:  57%|█████▋    | 245/430 [00:59<01:33,  1.98it/s, now=None]\u001b[A\n",
            "t:  57%|█████▋    | 247/430 [00:59<01:00,  3.01it/s, now=None]\u001b[A\n",
            "t:  58%|█████▊    | 248/430 [01:00<01:20,  2.26it/s, now=None]\u001b[A\n",
            "t:  58%|█████▊    | 250/430 [01:00<00:53,  3.38it/s, now=None]\u001b[A\n",
            "t:  58%|█████▊    | 251/430 [01:00<01:12,  2.46it/s, now=None]\u001b[A\n",
            "t:  59%|█████▉    | 253/430 [01:01<00:48,  3.63it/s, now=None]\u001b[A\n",
            "t:  59%|█████▉    | 254/430 [01:01<00:43,  4.07it/s, now=None]\u001b[A\n",
            "t:  60%|█████▉    | 256/430 [01:01<00:30,  5.65it/s, now=None]\u001b[A\n",
            "t:  60%|██████    | 258/430 [01:03<01:10,  2.43it/s, now=None]\u001b[A\n",
            "t:  60%|██████    | 260/430 [01:03<01:05,  2.59it/s, now=None]\u001b[A\n",
            "t:  61%|██████    | 262/430 [01:03<00:47,  3.55it/s, now=None]\u001b[A\n",
            "t:  61%|██████    | 263/430 [01:04<01:02,  2.69it/s, now=None]\u001b[A\n",
            "t:  62%|██████▏   | 265/430 [01:04<00:43,  3.77it/s, now=None]\u001b[A\n",
            "t:  62%|██████▏   | 266/430 [01:05<00:54,  2.98it/s, now=None]\u001b[A\n",
            "t:  62%|██████▏   | 268/430 [01:05<00:39,  4.13it/s, now=None]\u001b[A\n",
            "t:  63%|██████▎   | 269/430 [01:06<01:13,  2.19it/s, now=None]\u001b[A\n",
            "t:  63%|██████▎   | 271/430 [01:06<00:49,  3.21it/s, now=None]\u001b[A\n",
            "t:  63%|██████▎   | 272/430 [01:07<01:05,  2.42it/s, now=None]\u001b[A\n",
            "t:  64%|██████▎   | 274/430 [01:07<00:44,  3.54it/s, now=None]\u001b[A\n",
            "t:  64%|██████▍   | 275/430 [01:09<01:18,  1.98it/s, now=None]\u001b[A\n",
            "t:  64%|██████▍   | 277/430 [01:09<00:54,  2.83it/s, now=None]\u001b[A\n",
            "t:  65%|██████▍   | 278/430 [01:10<01:29,  1.70it/s, now=None]\u001b[A\n",
            "t:  65%|██████▌   | 280/430 [01:11<01:00,  2.49it/s, now=None]\u001b[A\n",
            "t:  65%|██████▌   | 281/430 [01:12<01:45,  1.41it/s, now=None]\u001b[A\n",
            "t:  66%|██████▌   | 283/430 [01:13<01:10,  2.09it/s, now=None]\u001b[A\n",
            "t:  66%|██████▌   | 284/430 [01:14<01:29,  1.62it/s, now=None]\u001b[A\n",
            "t:  67%|██████▋   | 286/430 [01:14<01:01,  2.36it/s, now=None]\u001b[A\n",
            "t:  67%|██████▋   | 287/430 [01:15<01:11,  2.01it/s, now=None]\u001b[A\n",
            "t:  67%|██████▋   | 289/430 [01:15<00:46,  3.01it/s, now=None]\u001b[A\n",
            "t:  67%|██████▋   | 290/430 [01:15<00:50,  2.76it/s, now=None]\u001b[A\n",
            "t:  68%|██████▊   | 292/430 [01:15<00:34,  4.00it/s, now=None]\u001b[A\n",
            "t:  68%|██████▊   | 293/430 [01:17<01:11,  1.93it/s, now=None]\u001b[A\n",
            "t:  69%|██████▊   | 295/430 [01:17<00:46,  2.88it/s, now=None]\u001b[A\n",
            "t:  69%|██████▉   | 296/430 [01:18<00:51,  2.59it/s, now=None]\u001b[A\n",
            "t:  69%|██████▉   | 298/430 [01:18<00:35,  3.72it/s, now=None]\u001b[A\n",
            "t:  70%|██████▉   | 299/430 [01:18<00:47,  2.77it/s, now=None]\u001b[A\n",
            "t:  70%|███████   | 301/430 [01:19<00:32,  4.00it/s, now=None]\u001b[A\n",
            "t:  70%|███████   | 302/430 [01:19<00:49,  2.57it/s, now=None]\u001b[A\n",
            "t:  71%|███████   | 304/430 [01:20<00:33,  3.77it/s, now=None]\u001b[A\n",
            "t:  71%|███████   | 305/430 [01:21<01:01,  2.03it/s, now=None]\u001b[A\n",
            "t:  71%|███████▏  | 307/430 [01:21<00:40,  3.02it/s, now=None]\u001b[A\n",
            "t:  72%|███████▏  | 308/430 [01:22<00:44,  2.73it/s, now=None]\u001b[A\n",
            "t:  72%|███████▏  | 310/430 [01:22<00:30,  3.91it/s, now=None]\u001b[A\n",
            "t:  72%|███████▏  | 311/430 [01:22<00:42,  2.81it/s, now=None]\u001b[A\n",
            "t:  73%|███████▎  | 313/430 [01:23<00:28,  4.10it/s, now=None]\u001b[A\n",
            "t:  73%|███████▎  | 314/430 [01:24<00:47,  2.43it/s, now=None]\u001b[A\n",
            "t:  73%|███████▎  | 316/430 [01:24<00:32,  3.54it/s, now=None]\u001b[A\n",
            "t:  74%|███████▎  | 317/430 [01:25<01:02,  1.82it/s, now=None]\u001b[A\n",
            "t:  74%|███████▍  | 319/430 [01:26<00:42,  2.59it/s, now=None]\u001b[A\n",
            "t:  74%|███████▍  | 320/430 [01:26<00:52,  2.10it/s, now=None]\u001b[A\n",
            "t:  75%|███████▍  | 322/430 [01:26<00:35,  3.08it/s, now=None]\u001b[A\n",
            "t:  75%|███████▌  | 323/430 [01:28<00:56,  1.88it/s, now=None]\u001b[A\n",
            "t:  76%|███████▌  | 325/430 [01:28<00:38,  2.74it/s, now=None]\u001b[A\n",
            "t:  76%|███████▌  | 326/430 [01:29<01:00,  1.73it/s, now=None]\u001b[A\n",
            "t:  76%|███████▋  | 328/430 [01:29<00:40,  2.55it/s, now=None]\u001b[A\n",
            "t:  77%|███████▋  | 329/430 [01:31<01:14,  1.36it/s, now=None]\u001b[A\n",
            "t:  77%|███████▋  | 331/430 [01:32<00:48,  2.04it/s, now=None]\u001b[A\n",
            "t:  77%|███████▋  | 332/430 [01:32<00:48,  2.03it/s, now=None]\u001b[A\n",
            "t:  78%|███████▊  | 334/430 [01:32<00:32,  2.98it/s, now=None]\u001b[A\n",
            "t:  78%|███████▊  | 335/430 [01:33<00:37,  2.52it/s, now=None]\u001b[A\n",
            "t:  78%|███████▊  | 337/430 [01:33<00:25,  3.62it/s, now=None]\u001b[A\n",
            "t:  79%|███████▊  | 338/430 [01:34<00:35,  2.58it/s, now=None]\u001b[A\n",
            "t:  79%|███████▉  | 340/430 [01:34<00:24,  3.67it/s, now=None]\u001b[A\n",
            "t:  79%|███████▉  | 341/430 [01:35<00:39,  2.26it/s, now=None]\u001b[A\n",
            "t:  80%|███████▉  | 343/430 [01:35<00:26,  3.31it/s, now=None]\u001b[A\n",
            "t:  80%|████████  | 344/430 [01:36<00:32,  2.66it/s, now=None]\u001b[A\n",
            "t:  80%|████████  | 346/430 [01:36<00:21,  3.89it/s, now=None]\u001b[A\n",
            "t:  81%|████████  | 347/430 [01:37<00:27,  2.99it/s, now=None]\u001b[A\n",
            "t:  81%|████████  | 349/430 [01:37<00:19,  4.20it/s, now=None]\u001b[A\n",
            "t:  81%|████████▏ | 350/430 [01:38<00:28,  2.84it/s, now=None]\u001b[A\n",
            "t:  82%|████████▏ | 352/430 [01:38<00:18,  4.11it/s, now=None]\u001b[A\n",
            "t:  82%|████████▏ | 353/430 [01:39<00:34,  2.25it/s, now=None]\u001b[A\n",
            "t:  83%|████████▎ | 355/430 [01:39<00:22,  3.26it/s, now=None]\u001b[A\n",
            "t:  83%|████████▎ | 356/430 [01:40<00:26,  2.82it/s, now=None]\u001b[A\n",
            "t:  83%|████████▎ | 358/430 [01:40<00:18,  3.97it/s, now=None]\u001b[A\n",
            "t:  83%|████████▎ | 359/430 [01:40<00:24,  2.95it/s, now=None]\u001b[A\n",
            "t:  84%|████████▍ | 361/430 [01:41<00:16,  4.23it/s, now=None]\u001b[A\n",
            "t:  84%|████████▍ | 362/430 [01:41<00:20,  3.30it/s, now=None]\u001b[A\n",
            "t:  85%|████████▍ | 364/430 [01:41<00:14,  4.64it/s, now=None]\u001b[A\n",
            "t:  85%|████████▍ | 365/430 [01:43<00:34,  1.87it/s, now=None]\u001b[A\n",
            "t:  85%|████████▌ | 367/430 [01:43<00:22,  2.77it/s, now=None]\u001b[A\n",
            "t:  86%|████████▌ | 368/430 [01:44<00:30,  2.00it/s, now=None]\u001b[A\n",
            "t:  86%|████████▌ | 369/430 [01:44<00:24,  2.44it/s, now=None]\u001b[A\n",
            "t:  86%|████████▌ | 370/430 [01:44<00:20,  2.98it/s, now=None]\u001b[A\n",
            "t:  86%|████████▋ | 371/430 [01:45<00:31,  1.86it/s, now=None]\u001b[A\n",
            "t:  87%|████████▋ | 373/430 [01:46<00:20,  2.81it/s, now=None]\u001b[A\n",
            "t:  87%|████████▋ | 374/430 [01:46<00:23,  2.38it/s, now=None]\u001b[A\n",
            "t:  87%|████████▋ | 376/430 [01:47<00:15,  3.46it/s, now=None]\u001b[A\n",
            "t:  88%|████████▊ | 377/430 [01:49<00:36,  1.44it/s, now=None]\u001b[A\n",
            "t:  88%|████████▊ | 379/430 [01:49<00:23,  2.20it/s, now=None]\u001b[A\n",
            "t:  88%|████████▊ | 380/430 [01:49<00:25,  1.99it/s, now=None]\u001b[A\n",
            "t:  89%|████████▉ | 382/430 [01:50<00:16,  2.97it/s, now=None]\u001b[A\n",
            "t:  89%|████████▉ | 383/430 [01:50<00:18,  2.54it/s, now=None]\u001b[A\n",
            "t:  90%|████████▉ | 385/430 [01:50<00:12,  3.69it/s, now=None]\u001b[A\n",
            "t:  90%|████████▉ | 386/430 [01:51<00:13,  3.19it/s, now=None]\u001b[A\n",
            "t:  90%|█████████ | 388/430 [01:51<00:09,  4.57it/s, now=None]\u001b[A\n",
            "t:  90%|█████████ | 389/430 [01:53<00:20,  1.98it/s, now=None]\u001b[A\n",
            "t:  91%|█████████ | 391/430 [01:53<00:13,  2.91it/s, now=None]\u001b[A\n",
            "t:  91%|█████████ | 392/430 [01:53<00:14,  2.69it/s, now=None]\u001b[A\n",
            "t:  92%|█████████▏| 394/430 [01:53<00:09,  3.85it/s, now=None]\u001b[A\n",
            "t:  92%|█████████▏| 395/430 [01:54<00:12,  2.79it/s, now=None]\u001b[A\n",
            "t:  92%|█████████▏| 397/430 [01:54<00:08,  4.00it/s, now=None]\u001b[A\n",
            "t:  93%|█████████▎| 398/430 [01:55<00:10,  2.99it/s, now=None]\u001b[A\n",
            "t:  93%|█████████▎| 400/430 [01:55<00:06,  4.31it/s, now=None]\u001b[A\n",
            "t:  93%|█████████▎| 401/430 [01:56<00:13,  2.22it/s, now=None]\u001b[A\n",
            "t:  94%|█████████▎| 403/430 [01:56<00:08,  3.29it/s, now=None]\u001b[A\n",
            "t:  94%|█████████▍| 404/430 [01:57<00:09,  2.78it/s, now=None]\u001b[A\n",
            "t:  94%|█████████▍| 406/430 [01:57<00:05,  4.04it/s, now=None]\u001b[A\n",
            "t:  95%|█████████▍| 407/430 [01:58<00:07,  2.88it/s, now=None]\u001b[A\n",
            "t:  95%|█████████▌| 409/430 [01:58<00:05,  4.18it/s, now=None]\u001b[A\n",
            "t:  96%|█████████▌| 411/430 [01:59<00:05,  3.24it/s, now=None]\u001b[A\n",
            "t:  96%|█████████▌| 413/430 [02:01<00:08,  1.91it/s, now=None]\u001b[A\n",
            "t:  96%|█████████▋| 414/430 [02:01<00:07,  2.21it/s, now=None]\u001b[A\n",
            "t:  97%|█████████▋| 416/430 [02:02<00:06,  2.04it/s, now=None]\u001b[A\n",
            "t:  97%|█████████▋| 418/430 [02:02<00:04,  2.81it/s, now=None]\u001b[A\n",
            "t:  97%|█████████▋| 419/430 [02:03<00:05,  1.85it/s, now=None]\u001b[A\n",
            "t:  98%|█████████▊| 421/430 [02:04<00:03,  2.60it/s, now=None]\u001b[A\n",
            "t:  98%|█████████▊| 422/430 [02:05<00:04,  1.94it/s, now=None]\u001b[A\n",
            "t:  99%|█████████▊| 424/430 [02:05<00:02,  2.77it/s, now=None]\u001b[A\n",
            "t:  99%|█████████▉| 425/430 [02:06<00:02,  1.82it/s, now=None]\u001b[A\n",
            "t:  99%|█████████▉| 427/430 [02:06<00:01,  2.69it/s, now=None]\u001b[A\n",
            "t: 100%|█████████▉| 428/430 [02:07<00:00,  2.40it/s, now=None]\u001b[A\n",
            "t: 100%|██████████| 430/430 [02:07<00:00,  3.53it/s, now=None]\u001b[A\n",
            "                                                              \u001b[A\n",
            "\n",
            "\n",
            "\n",
            "\n",
            "\n",
            "\n",
            "\n",
            "\n",
            "\n",
            "\n",
            "\n",
            "t:   1%|          | 4/779 [1:21:04<261:48:54, 1216.17s/it, now=None]\n",
            "\n",
            "\n",
            "\n",
            "\n",
            "\n",
            "\n",
            "\n",
            "\n",
            "\n",
            "\n",
            "\n",
            "t:   1%|          | 4/779 [1:21:04<261:48:56, 1216.18s/it, now=None]"
          ]
        },
        {
          "output_type": "stream",
          "name": "stdout",
          "text": [
            "Moviepy - Done !\n",
            "Moviepy - video ready /content/drive/MyDrive/test_video.mp4/test_video.mp4\n"
          ]
        }
      ]
    },
    {
      "cell_type": "code",
      "source": [
        "import cv2\n",
        "from cv2 import imshow\n",
        "import numpy as np\n",
        "from google.colab.patches import cv2_imshow\n",
        "\n",
        "# Load an image from file\n",
        "image_path = r'/content/drive/MyDrive/C.JPG'\n",
        "image = cv2.imread(image_path)\n",
        "\n",
        "def frame_processor(image):\n",
        "     processed_frame = cv2.cvtColor(image, cv2.COLOR_BGR2GRAY)\n",
        "     return processed_frame\n",
        "\n",
        "# Load an image from file\n",
        "\n",
        "# Check if the image is loaded successfully\n",
        "if image is not None:\n",
        "    # Process the image using the frame_processor function\n",
        "    processed_image = frame_processor(image)\n",
        "    # Display the processed image (optional)\n",
        "    cv2_imshow(image)\n",
        "    cv2_imshow(processed_image)\n",
        "    cv2.waitKey(0)  # Wait for any key press\n",
        "    cv2.destroyAllWindows()  # Close all OpenCV windows\n",
        "else:\n",
        "    print(\"Error: Unable to load the image at\", image_path)\n"
      ],
      "metadata": {
        "colab": {
          "base_uri": "https://localhost:8080/",
          "height": 323
        },
        "id": "PKXYTV6mkhTm",
        "outputId": "8435f195-2141-46b0-ff2f-2b9f981efb9a"
      },
      "execution_count": 53,
      "outputs": [
        {
          "output_type": "display_data",
          "data": {
            "text/plain": [
              "<PIL.Image.Image image mode=RGB size=267x153>"
            ],
            "image/png": "[encoded data removed]"
          },
          "metadata": {}
        },
        {
          "output_type": "display_data",
          "data": {
            "text/plain": [
              "<PIL.Image.Image image mode=L size=267x153>"
            ],
            "image/png": "[encoded data removed]"
          },
          "metadata": {}
        }
      ]
    },
    {
      "cell_type": "markdown",
      "source": [
        "# Define “frame_processor” function where all the processing happens on a frame to detect lane lines."
      ],
      "metadata": {
        "id": "U-UprHWZ14Cz"
      }
    },
    {
      "cell_type": "code",
      "source": [
        "import cv2\n",
        "import numpy as np\n",
        "from google.colab.patches import cv2_imshow\n",
        "\n",
        "def frame_processor(image):\n",
        "    grayscale = cv2.cvtColor(image, cv2.COLOR_BGR2GRAY)\n",
        "    kernel_size = 5\n",
        "    blur = cv2.GaussianBlur(grayscale, (kernel_size, kernel_size), 0)\n",
        "    low_t = 50\n",
        "    high_t = 150\n",
        "    edges = cv2.Canny(blur, low_t, high_t)\n",
        "    region = region_selection(edges, image)  # Pass 'edges' and 'image' to region_selection\n",
        "\n",
        "    cv2_imshow(grayscale)\n",
        "    cv2_imshow(blur)\n",
        "    cv2_imshow(edges)\n",
        "    cv2_imshow(region)\n",
        "\n",
        "    return None\n",
        "\n",
        "# Define your region_selection function here\n",
        "def region_selection(image, original_image):\n",
        "    # Apply Gaussian blur to reduce noise\n",
        "    kernel_size = 5\n",
        "    blur = cv2.GaussianBlur(image, (kernel_size, kernel_size), 0)\n",
        "\n",
        "    # Apply Canny edge detection\n",
        "    low_threshold = 50\n",
        "    high_threshold = 150\n",
        "    edges = cv2.Canny(blur, low_threshold, high_threshold)\n",
        "\n",
        "    # Find contours in the image\n",
        "    contours, _ = cv2.findContours(edges, cv2.RETR_EXTERNAL, cv2.CHAIN_APPROX_SIMPLE)\n",
        "\n",
        "    # Select the largest contour\n",
        "    if len(contours) > 0:\n",
        "        largest_contour = max(contours, key=cv2.contourArea)\n",
        "\n",
        "        # Create a mask based on the largest contour\n",
        "        mask = np.zeros_like(original_image[:, :, 0])  # Create a grayscale mask\n",
        "        cv2.drawContours(mask, [largest_contour], 0, 255, -1)\n",
        "\n",
        "        # Extract the region of interest using the mask\n",
        "        region = cv2.bitwise_and(original_image, original_image, mask=mask)\n",
        "\n",
        "        return region\n",
        "    else:\n",
        "        return None\n",
        "\n",
        "\n",
        "# Call frame_processor with your image\n",
        "image_path= '/content/drive/MyDrive/C.JPG'\n",
        "image = cv2.imread(image_path)\n",
        "frame_processor(image)\n",
        "#"
      ],
      "metadata": {
        "colab": {
          "base_uri": "https://localhost:8080/",
          "height": 629
        },
        "id": "iIf0mAGFi6Bg",
        "outputId": "76468c81-e0a2-403f-cffc-6cf167cb5d67"
      },
      "execution_count": 60,
      "outputs": [
        {
          "output_type": "display_data",
          "data": {
            "text/plain": [
              "<PIL.Image.Image image mode=L size=267x153>"
            ],
            "image/png": "[encoded data removed]"
          },
          "metadata": {}
        },
        {
          "output_type": "display_data",
          "data": {
            "text/plain": [
              "<PIL.Image.Image image mode=L size=267x153>"
            ],
            "image/png": "[encoded data removed]"
          },
          "metadata": {}
        },
        {
          "output_type": "display_data",
          "data": {
            "text/plain": [
              "<PIL.Image.Image image mode=L size=267x153>"
            ],
            "image/png": "[encoded data removed]"
          },
          "metadata": {}
        },
        {
          "output_type": "display_data",
          "data": {
            "text/plain": [
              "<PIL.Image.Image image mode=RGB size=267x153>"
            ],
            "image/png": "[encoded data removed]"
          },
          "metadata": {}
        }
      ]
    },
    {
      "cell_type": "markdown",
      "source": [
        "# Region Selection output & Region selection Mask (Polygon)"
      ],
      "metadata": {
        "id": "nFNb2D1F2McR"
      }
    },
    {
      "cell_type": "code",
      "source": [
        "import cv2\n",
        "import numpy as np\n",
        "from google.colab.patches import cv2_imshow\n",
        "\n",
        "def region_selection(edges_image):\n",
        "    \"\"\"\n",
        "    Determine and cut the region of interest in the input image.\n",
        "    Parameters:\n",
        "        edges_image: The output from Canny edge detection.\n",
        "    \"\"\"\n",
        "    # Read the input image\n",
        "    image_path = '/content/drive/MyDrive/CE.JPG'\n",
        "    image = cv2.imread(image_path)\n",
        "\n",
        "    # Create an array of the same size as the input image\n",
        "    mask = np.zeros_like(edges_image)\n",
        "\n",
        "    # If you pass an image with more than one channel\n",
        "    if len(edges_image.shape) > 2:\n",
        "        channel_count = edges_image.shape[2]\n",
        "        ignore_mask_color = (255,) * channel_count\n",
        "    else:\n",
        "        # Color of the mask polygon (white)\n",
        "        ignore_mask_color = 255\n",
        "\n",
        "    # Creating a polygon to focus only on the road in the picture\n",
        "    rows, cols = image.shape[:2]\n",
        "    bottom_left = [cols * 0.1, rows * 0.95]\n",
        "    top_left = [cols * 0.4, rows * 0.6]\n",
        "    bottom_right = [cols * 0.9, rows * 0.95]\n",
        "    top_right = [cols * 0.6, rows * 0.6]\n",
        "    vertices = np.array([[bottom_left, top_left, top_right, bottom_right]], dtype=np.int32)\n",
        "\n",
        "    # Filling the polygon with white color and generating the final mask\n",
        "    cv2.fillPoly(mask, [vertices], ignore_mask_color)\n",
        "\n",
        "    # Performing Bitwise AND on the input image and mask to get only the edges on the road\n",
        "    masked_image = cv2.bitwise_and(edges_image, mask)\n",
        "\n",
        "    # Print the masked image\n",
        "    cv2_imshow(masked_image)\n",
        "\n",
        "    return masked_image\n",
        "\n",
        "# Test the function\n",
        "image_path = '/content/drive/MyDrive/CE.JPG'\n",
        "image = cv2.imread(image_path)\n",
        "edges_image = cv2.Canny(image, 50, 150)\n",
        "masked_image = region_selection(edges_image)\n"
      ],
      "metadata": {
        "colab": {
          "base_uri": "https://localhost:8080/",
          "height": 169
        },
        "id": "vIgHE7argbwi",
        "outputId": "cf247aa4-d2f7-4389-aa40-0af25b095c50"
      },
      "execution_count": 51,
      "outputs": [
        {
          "output_type": "display_data",
          "data": {
            "text/plain": [
              "<PIL.Image.Image image mode=L size=269x152>"
            ],
            "image/png": "[encoded data removed]"
          },
          "metadata": {}
        }
      ]
    },
    {
      "cell_type": "code",
      "source": [
        "import cv2\n",
        "import numpy as np\n",
        "from google.colab.patches import cv2_imshow\n",
        "\n",
        "def region_selection(edges_image):\n",
        "    \"\"\"\n",
        "    Determine and cut the region of interest in the input image.\n",
        "    Parameters:\n",
        "        edges_image: The output from Canny edge detection.\n",
        "    \"\"\"\n",
        "    # Read the input image\n",
        "    image_path = '/content/drive/MyDrive/CB.JPG'\n",
        "    image = cv2.imread(image_path)\n",
        "\n",
        "    # Create an array of the same size as the input image\n",
        "    mask = np.zeros_like(edges_image)\n",
        "\n",
        "    # If you pass an image with more than one channel\n",
        "    if len(edges_image.shape) > 2:\n",
        "        channel_count = edges_image.shape[2]\n",
        "        ignore_mask_color = (255,) * channel_count\n",
        "    else:\n",
        "        # Color of the mask polygon (white)\n",
        "        ignore_mask_color = 255\n",
        "\n",
        "    # Creating a polygon to focus only on the road in the picture\n",
        "    rows, cols = image.shape[:2]\n",
        "    bottom_left = [cols * 0.1, rows * 0.95]\n",
        "    top_left = [cols * 0.4, rows * 0.6]\n",
        "    bottom_right = [cols * 0.9, rows * 0.95]\n",
        "    top_right = [cols * 0.6, rows * 0.6]\n",
        "    vertices = np.array([[bottom_left, top_left, top_right, bottom_right]], dtype=np.int32)\n",
        "\n",
        "    # Filling the polygon with white color and generating the final mask\n",
        "    cv2.fillPoly(mask, [vertices], ignore_mask_color)\n",
        "\n",
        "    # Create a blank image to draw the polygon\n",
        "    polygon_image = np.zeros_like(edges_image)\n",
        "\n",
        "    # Draw the polygon on the polygon image\n",
        "    cv2.fillPoly(polygon_image, [vertices], (255, 255, 255))\n",
        "\n",
        "    # Perform Bitwise AND operation to mask the edges image\n",
        "    masked_image = cv2.bitwise_and(edges_image, mask)\n",
        "\n",
        "    # Overlay the polygon image on the masked image\n",
        "    output_image = cv2.addWeighted(masked_image, 1, polygon_image, 0.5, 0)\n",
        "\n",
        "    # Display the output image\n",
        "    cv2_imshow(output_image)\n",
        "\n",
        "    return output_image\n",
        "\n",
        "# Test the function\n",
        "image_path = '/content/drive/MyDrive/CB.JPG'\n",
        "image = cv2.imread(image_path)\n",
        "edges_image = cv2.Canny(image, 50, 150)\n",
        "masked_image = region_selection(edges_image)\n"
      ],
      "metadata": {
        "colab": {
          "base_uri": "https://localhost:8080/",
          "height": 170
        },
        "id": "Xc-Aw2BJv546",
        "outputId": "384f9206-c4d9-40ff-b359-d707a476cdea"
      },
      "execution_count": 39,
      "outputs": [
        {
          "output_type": "display_data",
          "data": {
            "text/plain": [
              "<PIL.Image.Image image mode=L size=270x153>"
            ],
            "image/png": "[encoded data removed]"
          },
          "metadata": {}
        }
      ]
    },
    {
      "cell_type": "markdown",
      "source": [
        "# Identifying straight lines in the output image from the above function using Probabilistic Hough Transform"
      ],
      "metadata": {
        "id": "tMoqJPru2b5p"
      }
    },
    {
      "cell_type": "code",
      "source": [
        "print(edges_image.shape)"
      ],
      "metadata": {
        "colab": {
          "base_uri": "https://localhost:8080/"
        },
        "id": "jU2rAymzweiU",
        "outputId": "7311f561-a0ec-471f-8ea8-1508d91343ec"
      },
      "execution_count": 40,
      "outputs": [
        {
          "output_type": "stream",
          "name": "stdout",
          "text": [
            "(153, 270)\n"
          ]
        }
      ]
    },
    {
      "cell_type": "code",
      "source": [
        "import cv2\n",
        "import numpy as np\n",
        "from google.colab.patches import cv2_imshow\n",
        "\n",
        "def hough_transform(image):\n",
        "    \"\"\"\n",
        "    Perform Hough transform to detect straight lines in the input image.\n",
        "    Parameters:\n",
        "        image: A grayscale image obtained from the edge detector.\n",
        "    Returns:\n",
        "        lines: An array containing dimensions of straight lines in the input image.\n",
        "    \"\"\"\n",
        "    # Distance resolution of the accumulator in pixels.\n",
        "    rho = 1\n",
        "    # Angle resolution of the accumulator in radians.\n",
        "    theta = np.pi / 180\n",
        "    # Only lines that are greater than threshold will be returned.\n",
        "    threshold = 20\n",
        "    # Line segments shorter than that are rejected.\n",
        "    minLineLength = 20\n",
        "    # Maximum allowed gap between points on the same line to link them\n",
        "    maxLineGap = 500\n",
        "\n",
        "    # Perform Hough transform\n",
        "    lines = cv2.HoughLinesP(image, rho=rho, theta=theta, threshold=threshold,\n",
        "                            minLineLength=minLineLength, maxLineGap=maxLineGap)\n",
        "\n",
        "    # Print or visualize the detected lines\n",
        "    if lines is not None:\n",
        "        for i, line in enumerate(lines):\n",
        "            x1, y1, x2, y2 = line[0]\n",
        "            cv2.line(image, (x1, y1), (x2, y2), (0, 255, 0), 2)\n",
        "            print(f\" {i+1}: [{x1}, {y1}, {x2}, {y2}]\")\n",
        "        cv2_imshow(image)\n",
        "    else:\n",
        "        print(\"No lines detected.\")\n",
        "\n",
        "    return lines\n",
        "\n",
        "# Test the function\n",
        "image_path = '/content/drive/MyDrive/CE.JPG'\n",
        "image = cv2.imread(image_path)\n",
        "gray_image = cv2.cvtColor(image, cv2.COLOR_BGR2GRAY)\n",
        "edges_image = cv2.Canny(gray_image, 50, 150)\n",
        "hough_lines = hough_transform(edges_image)\n"
      ],
      "metadata": {
        "colab": {
          "base_uri": "https://localhost:8080/",
          "height": 915
        },
        "id": "R8wW1_S5jDi-",
        "outputId": "1d2d1e98-4d9b-46b6-d73c-95ab30130f90"
      },
      "execution_count": 17,
      "outputs": [
        {
          "output_type": "stream",
          "name": "stdout",
          "text": [
            " 1: [0, 150, 266, 150]\n",
            " 2: [0, 148, 266, 148]\n",
            " 3: [21, 35, 267, 110]\n",
            " 4: [16, 43, 268, 88]\n",
            " 5: [2, 106, 266, 36]\n",
            " 6: [1, 101, 267, 30]\n",
            " 7: [16, 41, 267, 123]\n",
            " 8: [267, 147, 267, 0]\n",
            " 9: [49, 40, 266, 106]\n",
            " 10: [15, 46, 268, 90]\n",
            " 11: [3, 104, 266, 34]\n",
            " 12: [60, 68, 266, 97]\n",
            " 13: [135, 59, 220, 147]\n",
            " 14: [15, 44, 266, 89]\n",
            " 15: [30, 36, 266, 117]\n",
            " 16: [4, 73, 154, 65]\n",
            " 17: [0, 104, 263, 33]\n",
            " 18: [133, 59, 204, 147]\n",
            " 19: [13, 68, 258, 115]\n",
            " 20: [74, 46, 266, 105]\n",
            " 21: [17, 40, 266, 111]\n",
            " 22: [4, 81, 222, 51]\n",
            " 23: [15, 47, 263, 113]\n",
            " 24: [147, 74, 219, 149]\n",
            " 25: [68, 67, 259, 91]\n",
            " 26: [19, 35, 266, 120]\n",
            " 27: [0, 72, 219, 53]\n",
            " 28: [29, 35, 266, 108]\n",
            " 29: [1, 81, 79, 62]\n",
            " 30: [136, 59, 207, 147]\n",
            " 31: [39, 133, 146, 61]\n",
            " 32: [42, 136, 127, 79]\n",
            " 33: [70, 57, 263, 112]\n",
            " 34: [2, 58, 266, 95]\n",
            " 35: [112, 78, 263, 38]\n",
            " 36: [18, 41, 262, 120]\n",
            " 37: [42, 133, 135, 70]\n",
            " 38: [0, 69, 265, 97]\n",
            " 39: [13, 51, 264, 90]\n",
            " 40: [2, 74, 266, 125]\n",
            " 41: [75, 45, 266, 103]\n",
            " 42: [21, 38, 266, 118]\n",
            " 43: [45, 136, 152, 64]\n"
          ]
        },
        {
          "output_type": "display_data",
          "data": {
            "text/plain": [
              "<PIL.Image.Image image mode=L size=269x152>"
            ],
            "image/png": "[encoded data removed]"
          },
          "metadata": {}
        }
      ]
    },
    {
      "cell_type": "markdown",
      "source": [
        "# Plotting Lines on Regional selection frames"
      ],
      "metadata": {
        "id": "C3cIk1YT3ZpL"
      }
    },
    {
      "cell_type": "code",
      "source": [
        "import cv2\n",
        "import numpy as np\n",
        "\n",
        "def average_slope_intercept(lines):\n",
        "    \"\"\"\n",
        "    Find the slope and intercept of the left and right lanes of each image.\n",
        "    Parameters:\n",
        "        lines: output from Hough Transform\n",
        "    \"\"\"\n",
        "    left_lines = []  # (slope, intercept)\n",
        "    left_weights = []  # (length,)\n",
        "    right_lines = []  # (slope, intercept)\n",
        "    right_weights = []  # (length,)\n",
        "\n",
        "    for line in lines:\n",
        "        for x1, y1, x2, y2 in line:\n",
        "            if x1 == x2:\n",
        "                continue\n",
        "            # calculating slope of a line\n",
        "            slope = (y2 - y1) / (x2 - x1)\n",
        "            # calculating intercept of a line\n",
        "            intercept = y1 - (slope * x1)\n",
        "            # calculating length of a line\n",
        "            length = np.sqrt(((y2 - y1) ** 2) + ((x2 - x1) ** 2))\n",
        "            # slope of left lane is negative and for right lane slope is positive\n",
        "            if slope < 0:\n",
        "                left_lines.append((slope, intercept))\n",
        "                left_weights.append((length))\n",
        "            else:\n",
        "                right_lines.append((slope, intercept))\n",
        "                right_weights.append((length))\n",
        "    #\n",
        "    left_lane = np.dot(left_weights, left_lines) / np.sum(left_weights) if len(left_weights) > 0 else None\n",
        "    right_lane = np.dot(right_weights, right_lines) / np.sum(right_weights) if len(right_weights) > 0 else None\n",
        "    return left_lane, right_lane\n",
        "\n",
        "def pixel_points(y1, y2, line):\n",
        "    \"\"\"\n",
        "    Converts the slope and intercept of each line into pixel points.\n",
        "        Parameters:\n",
        "            y1: y-value of the line's starting point.\n",
        "            y2: y-value of the line's end point.\n",
        "            line: The slope and intercept of the line.\n",
        "    \"\"\"\n",
        "    if line is None:\n",
        "        return None\n",
        "    slope, intercept = line\n",
        "    x1 = int((y1 - intercept)/slope)\n",
        "    x2 = int((y2 - intercept)/slope)\n",
        "    y1 = int(y1)\n",
        "    y2 = int(y2)\n",
        "    return ((x1, y1), (x2, y2))\n",
        "\n",
        "def lane_lines(image, lines):\n",
        "    \"\"\"\n",
        "    Create full length lines from pixel points.\n",
        "        Parameters:\n",
        "            image: The input test image.\n",
        "            lines: The output lines from Hough Transform.\n",
        "    \"\"\"\n",
        "    left_lane, right_lane = average_slope_intercept(lines)\n",
        "    y1 = image.shape[0]\n",
        "    y2 = y1 * 0.6\n",
        "    left_line = pixel_points(y1, y2, left_lane)\n",
        "    right_line = pixel_points(y1, y2, right_lane)\n",
        "    return left_line, right_line\n",
        "\n",
        "def draw_lane_lines(image, lines, color=[255, 0, 0], thickness=12):\n",
        "    \"\"\"\n",
        "    Draw lines onto the input image.\n",
        "        Parameters:\n",
        "            image: The input test image (video frame in our case).\n",
        "            lines: The output lines from Hough Transform.\n",
        "            color (Default = red): Line color.\n",
        "            thickness (Default = 12): Line thickness.\n",
        "    \"\"\"\n",
        "    line_image = np.zeros_like(image)\n",
        "    for line in lines:\n",
        "        if line is not None:\n",
        "            cv2.line(line_image, *line, color, thickness)\n",
        "    return cv2.addWeighted(image, 1.0, line_image, 1.0, 0.0)\n",
        "\n",
        "# Load an example image\n",
        "image_path = '/content/drive/MyDrive/CB.JPG'\n",
        "image = cv2.imread(image_path)\n",
        "\n",
        "# Detect edges using Canny edge detection\n",
        "edges = cv2.Canny(image, 50, 150)\n",
        "\n",
        "# Perform Hough Transform to detect lines\n",
        "lines = cv2.HoughLinesP(edges, rho=1, theta=np.pi/180, threshold=20, minLineLength=20, maxLineGap=500)\n",
        "\n",
        "# Get left and right lane lines\n",
        "left_line, right_line = lane_lines(image, lines)\n",
        "\n",
        "# Draw lane lines on the original image\n",
        "result_image = draw_lane_lines(image, [left_line, right_line])\n",
        "\n",
        "# Display the result\n",
        "cv2_imshow(result_image)\n"
      ],
      "metadata": {
        "colab": {
          "base_uri": "https://localhost:8080/",
          "height": 170
        },
        "id": "Obr14VvDwmjZ",
        "outputId": "b5c35274-1428-486d-9307-f78dba18159e"
      },
      "execution_count": 43,
      "outputs": [
        {
          "output_type": "display_data",
          "data": {
            "text/plain": [
              "<PIL.Image.Image image mode=RGB size=270x153>"
            ],
            "image/png": "[encoded data removed]"
          },
          "metadata": {}
        }
      ]
    },
    {
      "cell_type": "code",
      "source": [],
      "metadata": {
        "id": "o3Dpnzs37ecO"
      },
      "execution_count": null,
      "outputs": []
    }
  ]
}